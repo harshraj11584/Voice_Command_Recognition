{
 "cells": [
  {
   "cell_type": "code",
   "execution_count": 1,
   "metadata": {},
   "outputs": [
    {
     "name": "stdout",
     "output_type": "stream",
     "text": [
      "Initial Setup Complete\n",
      "\n"
     ]
    }
   ],
   "source": [
    "import numpy as np\n",
    "from matplotlib import pyplot as plt\n",
    "import random\n",
    "import soundfile as sf\n",
    "import python_speech_features\n",
    "from python_speech_features import mfcc\n",
    "import os\n",
    "import sklearn\n",
    "from sklearn.discriminant_analysis import LinearDiscriminantAnalysis as LDA\n",
    "import pickle\n",
    "\n",
    "print(\"Initial Setup Complete\\n\")"
   ]
  },
  {
   "cell_type": "code",
   "execution_count": 2,
   "metadata": {},
   "outputs": [
    {
     "name": "stdout",
     "output_type": "stream",
     "text": [
      "Preparing Data Set\n",
      "\n",
      "y0l shape (2000, 4048)\n",
      "y1l shape (2000, 4048)\n",
      "y2l shape (2000, 4048)\n",
      "y3l shape (2000, 4048)\n",
      "y4l shape (2000, 4048)\n",
      "\n",
      "Shuffling\n",
      "\n",
      "\n",
      "y0l shape (2000, 4048)\n",
      "y1l shape (2000, 4048)\n",
      "y2l shape (2000, 4048)\n",
      "y3l shape (2000, 4048)\n",
      "y4l shape (2000, 4048)\n",
      "\n",
      "Done\n",
      "\n"
     ]
    }
   ],
   "source": [
    "print(\"Preparing Data Set\\n\")\n",
    "y0 = np.empty([2000,4043])                    \n",
    "# reading all the back.wav files, coverting to mfcc format, adding labels and storing in an array\n",
    "for j in range(0,2000):\n",
    "    b = \"full_dataset/back\"+str(j)+\".wav\"\n",
    "    #print b\n",
    "    data, samplerate = sf.read(b)\n",
    "    data1 = mfcc(data,samplerate)\n",
    "    data = data1.reshape(4043,)\n",
    "    y0[j]=data\n",
    "y = np.empty([2000,5])\n",
    "for i in range (0,2000):                      \n",
    "    # manually assigning labels\n",
    "    y[i][0]=1.0\n",
    "    y[i][1]=0.0\n",
    "    y[i][2]=0.0\n",
    "    y[i][3]=0.0\n",
    "    y[i][4]=0.0 \n",
    "y0l = np.append(y0,y,axis=1)\n",
    "print(\"y0l shape {}\".format(y0l.shape))\n",
    "\n",
    "y1 = np.empty([2000,4043])\n",
    "\n",
    "for j in range(0,2000):                       \n",
    "    # reading all the forward.wav files, coverting to mfcc format, adding labels and storing in an array\n",
    "    b = \"full_dataset/forward\"+str(j)+\".wav\"\n",
    "    #print b\n",
    "    data, samplerate = sf.read(b)\n",
    "    data1 = mfcc(data,samplerate)\n",
    "    data = data1.reshape(4043,)\n",
    "    y1[j]=data\n",
    "y = np.empty([2000,5])\n",
    "for i in range (0,2000):                      # manually assigning labels\n",
    "    y[i][0]=0.0\n",
    "    y[i][1]=1.0\n",
    "    y[i][2]=0.0\n",
    "    y[i][3]=0.0\n",
    "    y[i][4]=0.0\n",
    "y1l = np.append(y1,y,axis=1)\n",
    "print(\"y1l shape {}\".format(y1l.shape))  \n",
    "\n",
    "y2 = np.empty([2000,4043])\n",
    "\n",
    "for j in range(0,2000):                        \n",
    "    # reading all the left.wav files, coverting to mfcc format, adding labels and storing in an array  \n",
    "    b = \"full_dataset/left\"+str(j)+\".wav\"\n",
    "    #print b\n",
    "    data, samplerate = sf.read(b)\n",
    "    data1 = mfcc(data,samplerate)\n",
    "    data = data1.reshape(4043,)\n",
    "    y2[j]=data\n",
    "y = np.empty([2000,5])\n",
    "for i in range (0,2000):                        # manually assigning labels\n",
    "    y[i][0]=0.0\n",
    "    y[i][1]=0.0\n",
    "    y[i][2]=1.0\n",
    "    y[i][3]=0.0\n",
    "    y[i][4]=0.0\n",
    "y2l = np.append(y2,y,axis=1)\n",
    "print(\"y2l shape {}\".format(y2l.shape))\n",
    "\n",
    "y3 = np.empty([2000,4043])                      \n",
    "# reading all the right.wav files, coverting to mfcc format, adding labels and storing in an array\n",
    "for j in range(0,2000):\n",
    "    b = \"full_dataset/right\"+str(j)+\".wav\"\n",
    "    #print b\n",
    "    data, samplerate = sf.read(b)\n",
    "    data1 = mfcc(data,samplerate)\n",
    "    data = data1.reshape(4043,)\n",
    "    y3[j]=data\n",
    "y = np.empty([2000,5])\n",
    "for i in range (0,2000):                        # manually assigning labels\n",
    "    y[i][0]=0.0\n",
    "    y[i][1]=0.0\n",
    "    y[i][2]=0.0\n",
    "    y[i][3]=1.0\n",
    "    y[i][4]=0.0\n",
    "y3l = np.append(y3,y,axis=1)\n",
    "print(\"y3l shape {}\".format(y3l.shape))  \n",
    "\n",
    "y4 = np.empty([2000,4043])  \n",
    "# reading all the stop.wav files, coverting to mfcc format, adding labels and storing in an array   \n",
    "for j in range(0,2000):\n",
    "    b = \"full_dataset/stop\"+str(j)+\".wav\"\n",
    "    #print b\n",
    "    data, samplerate = sf.read(b)\n",
    "    data1 = mfcc(data,samplerate)\n",
    "    data = data1.reshape(4043,)\n",
    "    y4[j]=data\n",
    "y = np.empty([2000,5])\n",
    "for i in range (0,2000):                         \n",
    "    # manually assigning labels\n",
    "    y[i][0]=0.0\n",
    "    y[i][1]=0.0\n",
    "    y[i][2]=0.0\n",
    "    y[i][3]=0.0\n",
    "    y[i][4]=1.0\n",
    "y4l = np.append(y4,y,axis=1)\n",
    "print(\"y4l shape {}\".format(y4l.shape))\n",
    "\n",
    "\n",
    "\n",
    "print(\"Preparing Environment Bias\\n\")\n",
    "envbias = np.empty([60,4043])                    \n",
    "# reading all the back.wav files, coverting to mfcc format, adding labels and storing in an array\n",
    "for j in range(0,60):\n",
    "    b = \"data_augmented/env/env\"+str(j)+\".wav\"\n",
    "    #print b\n",
    "    data, samplerate = sf.read(b)\n",
    "    data1 = mfcc(data,samplerate)\n",
    "    data = data1.reshape(4043,)\n",
    "    y0[j]=data\n",
    "y = np.empty([2000,5])\n",
    "for i in range (0,2000):                      \n",
    "    # manually assigning labels\n",
    "    y[i][0]=1.0\n",
    "    y[i][1]=0.0\n",
    "    y[i][2]=0.0\n",
    "    y[i][3]=0.0\n",
    "    y[i][4]=0.0 \n",
    "y0l = np.append(y0,y,axis=1)\n",
    "print(\"y0l shape {}\".format(y0l.shape))\n",
    "\n",
    "\n",
    "\n",
    "\n",
    "print(\"\\nShuffling\\n\")\n",
    "np.random.shuffle(y0l)\n",
    "np.random.shuffle(y1l)\n",
    "np.random.shuffle(y2l)\n",
    "np.random.shuffle(y3l)\n",
    "np.random.shuffle(y4l)\n",
    "\n",
    "print()\n",
    "print(\"y0l shape {}\".format(y0l.shape))\n",
    "print(\"y1l shape {}\".format(y1l.shape))\n",
    "print(\"y2l shape {}\".format(y2l.shape))\n",
    "print(\"y3l shape {}\".format(y3l.shape))\n",
    "print(\"y4l shape {}\".format(y4l.shape))\n",
    "\n",
    "print(\"\\nDone\\n\")"
   ]
  },
  {
   "cell_type": "code",
   "execution_count": 3,
   "metadata": {},
   "outputs": [
    {
     "name": "stdout",
     "output_type": "stream",
     "text": [
      "Splitting Test/Train Set\n",
      "\n",
      "trains shape (8750, 4048)\n",
      "tests shape (1250, 4048)\n",
      "\n",
      "Done\n",
      "\n"
     ]
    }
   ],
   "source": [
    "print(\"Splitting Test/Train Set\\n\")\n",
    "\n",
    "\n",
    "\n",
    "trains = np.empty([8750,4048])                   # using the first 1750 elements of each word in the train set \n",
    "k=0\n",
    "for j in range(0,1750):\n",
    "    trains[j]=y0l[k]\n",
    "    k=k+1 \n",
    "k=0\n",
    "for j in range(1750,3500):\n",
    "    trains[j]=y1l[k]\n",
    "    k=k+1 \n",
    "k=0\n",
    "for j in range(3500,5250):\n",
    "    trains[j]=y2l[k]\n",
    "    k=k+1 \n",
    "k=0\n",
    "for j in range(5250,7000):\n",
    "    trains[j]=y3l[k]\n",
    "    k=k+1 \n",
    "k=0\n",
    "for j in range(7000,8750):\n",
    "    trains[j]=y4l[k]\n",
    "    k=k+1 \n",
    "print(\"trains shape {}\".format(trains.shape))\n",
    "np.random.shuffle(trains)\n",
    "\n",
    "tests = np.empty([1250,4048])                      # using the last 250 elements of each array in the test set\n",
    "k = 1750\n",
    "for j in range(0,250):\n",
    "    tests[j]=y0l[k]\n",
    "    k=k+1\n",
    "k = 1750    \n",
    "for j in range(250,500):\n",
    "    tests[j]=y1l[k]\n",
    "    k=k+1\n",
    "k = 1750 \n",
    "for j in range(500,750):\n",
    "    tests[j]=y2l[k]\n",
    "    k=k+1\n",
    "k = 1750 \n",
    "for j in range(750,1000):\n",
    "    tests[j]=y3l[k]\n",
    "    k=k+1 \n",
    "k = 1750\n",
    "for j in range(1000,1250):\n",
    "    tests[j]=y4l[k]\n",
    "    k=k+1 \n",
    "print(\"tests shape {}\".format(tests.shape))\n",
    "np.random.shuffle(tests)\n",
    "\n",
    "print(\"\\nDone\\n\")\n",
    "\n",
    "#for i in range(8750):\n",
    "#    print(trains[i,-5:])"
   ]
  },
  {
   "cell_type": "code",
   "execution_count": 4,
   "metadata": {},
   "outputs": [
    {
     "name": "stdout",
     "output_type": "stream",
     "text": [
      "Separating Features and Labels\n",
      "\n",
      "trainX shape (8750, 4043)\n",
      "trainY shape (8750,)\n",
      "testX shape (1250, 4043)\n",
      "testY shape (1250,)\n",
      "\n",
      "Done\n",
      "\n"
     ]
    }
   ],
   "source": [
    "print(\"Separating Features and Labels\\n\")\n",
    "\n",
    "trainX = np.empty([8750,4043])                         # spliting of train set into features and labels          \n",
    "trainY_v = np.empty([8750,5])\n",
    "trainY = np.empty(8750)\n",
    "for i in range(0,8750):\n",
    "    trainX[i]=trains[i][:4043]\n",
    "for i in range(0,8750):\n",
    "    trainY_v[i]=trains[i][-5:]\n",
    "for i in range(8750):\n",
    "    trainY[i] = np.argmax(trainY_v[i])\n",
    "print(\"trainX shape {}\".format(trainX.shape))\n",
    "print(\"trainY shape {}\".format(trainY.shape))\n",
    "\n",
    "testX = np.empty([1250,4043])                           # spliting of test set into features and labels  \n",
    "testY_v = np.empty([1250,5])\n",
    "testY = np.empty(1250)\n",
    "for i in range(0,1250):\n",
    "    testX[i]=tests[i][:4043]\n",
    "for i in range(0,1250):\n",
    "    testY_v[i]=tests[i][-5:]\n",
    "for i in range(1250):\n",
    "    testY[i] = np.argmax(testY_v[i])\n",
    "print(\"testX shape {}\".format(testX.shape))\n",
    "print(\"testY shape {}\".format(testY.shape))\n",
    "\n",
    "#Y now contains the labels as 0, 1, 2, 3, 4 respectively\n",
    "\n",
    "\n",
    "    \n",
    "    \n",
    "print(\"\\nDone\\n\")"
   ]
  },
  {
   "cell_type": "code",
   "execution_count": 5,
   "metadata": {},
   "outputs": [],
   "source": [
    "#print(\"Trying Linear Discriminant Analysis (SVD)\\n\")\n",
    "\n",
    "\n",
    "#from sklearn.discriminant_analysis import LinearDiscriminantAnalysis as LDA\n",
    "#clf1 = LDA(solver='svd')\n",
    "#clf1.fit(trainX, trainY)\n",
    "#predY1 = clf1.predict(testX)\n",
    "#acc1 = sklearn.metrics.accuracy_score(testY, predY1)\n",
    "#print(\"Accuracy = \",acc1)"
   ]
  },
  {
   "cell_type": "code",
   "execution_count": 6,
   "metadata": {},
   "outputs": [],
   "source": [
    "#print(\"Saving Trained LDA Model\")\n",
    "#file_name = '1_lda.sav'\n",
    "#pickle.dump(clf1,open(file_name,'wb'))\n",
    "#print(\"Done\\n\")"
   ]
  },
  {
   "cell_type": "code",
   "execution_count": 7,
   "metadata": {},
   "outputs": [
    {
     "name": "stdout",
     "output_type": "stream",
     "text": [
      "Trying Random Forest Classifier\n",
      "\n",
      "Trying 300 estimators\n",
      "Accuracy =  0.9864\n"
     ]
    }
   ],
   "source": [
    "print(\"Trying Random Forest Classifier\\n\")\n",
    "\n",
    "from sklearn.ensemble import RandomForestClassifier\n",
    "from sklearn.datasets import make_classification\n",
    "\n",
    "print(\"Trying 300 estimators\")\n",
    "clf2 = RandomForestClassifier(n_estimators=300,random_state=0)\n",
    "clf2.fit(trainX, trainY)\n",
    "predY2 = clf2.predict(testX)\n",
    "acc2 = sklearn.metrics.accuracy_score(testY, predY2)\n",
    "print(\"Accuracy = \",acc2)"
   ]
  },
  {
   "cell_type": "code",
   "execution_count": 8,
   "metadata": {},
   "outputs": [
    {
     "name": "stdout",
     "output_type": "stream",
     "text": [
      "Saving Trained RF300 Model\n",
      "Done\n",
      "\n"
     ]
    }
   ],
   "source": [
    "print(\"Saving Trained RF300 Model\")\n",
    "file_name = '2_rf300.sav'\n",
    "pickle.dump(clf2,open(file_name,'wb'))\n",
    "print(\"Done\\n\")"
   ]
  },
  {
   "cell_type": "code",
   "execution_count": 9,
   "metadata": {},
   "outputs": [
    {
     "name": "stdout",
     "output_type": "stream",
     "text": [
      "Trying 150 estimators\n",
      "Accuracy =  0.984\n"
     ]
    }
   ],
   "source": [
    "print(\"Trying 150 estimators\")\n",
    "clf3 = RandomForestClassifier(n_estimators=150,random_state=0,n_jobs=10)\n",
    "clf3.fit(trainX, trainY)\n",
    "predY3 = clf3.predict(testX)\n",
    "acc3 = sklearn.metrics.accuracy_score(testY, predY3)\n",
    "print(\"Accuracy = \",acc3)"
   ]
  },
  {
   "cell_type": "code",
   "execution_count": 10,
   "metadata": {},
   "outputs": [
    {
     "name": "stdout",
     "output_type": "stream",
     "text": [
      "Saving Trained RF150 Model\n",
      "Done\n",
      "\n"
     ]
    }
   ],
   "source": [
    "print(\"Saving Trained RF150 Model\")\n",
    "file_name = '3_rf150.sav'\n",
    "pickle.dump(clf3,open(file_name,'wb'))\n",
    "print(\"Done\\n\")"
   ]
  },
  {
   "cell_type": "code",
   "execution_count": 11,
   "metadata": {},
   "outputs": [
    {
     "name": "stdout",
     "output_type": "stream",
     "text": [
      "Trying 40 estimators\n",
      "Accuracy =  0.9792\n"
     ]
    }
   ],
   "source": [
    "print(\"Trying 40 estimators\")\n",
    "clf4 = RandomForestClassifier(n_estimators=40,random_state=0)\n",
    "clf4.fit(trainX, trainY)\n",
    "predY4 = clf4.predict(testX)\n",
    "acc4 = sklearn.metrics.accuracy_score(testY, predY4)\n",
    "print(\"Accuracy = \",acc4)"
   ]
  },
  {
   "cell_type": "code",
   "execution_count": 12,
   "metadata": {},
   "outputs": [
    {
     "name": "stdout",
     "output_type": "stream",
     "text": [
      "Saving Trained RF40 Model\n",
      "Done\n",
      "\n"
     ]
    }
   ],
   "source": [
    "print(\"Saving Trained RF40 Model\")\n",
    "file_name = '4_rf40.sav'\n",
    "pickle.dump(clf4,open(file_name,'wb'))\n",
    "print(\"Done\\n\")"
   ]
  },
  {
   "cell_type": "code",
   "execution_count": 13,
   "metadata": {},
   "outputs": [],
   "source": [
    "#print(\"Trying Linear Discriminant Analysis (LSQR)\\n\")\n",
    "\n",
    "\n",
    "#from sklearn.discriminant_analysis import LinearDiscriminantAnalysis as LDA\n",
    "#clf7 = LDA(solver='lsqr')\n",
    "#clf7.fit(trainX, trainY)\n",
    "#predY7 = clf7.predict(testX)\n",
    "#acc7 = sklearn.metrics.accuracy_score(testY, predY7)\n",
    "#print(\"Accuracy = \",acc7)"
   ]
  },
  {
   "cell_type": "code",
   "execution_count": 14,
   "metadata": {},
   "outputs": [],
   "source": [
    "#print(\"Saving Trained LDA Model\")\n",
    "#file_name = '5_lda.sav'\n",
    "#pickle.dump(clf7,open(file_name,'wb'))\n",
    "#print(\"Done\\n\")"
   ]
  },
  {
   "cell_type": "code",
   "execution_count": 15,
   "metadata": {},
   "outputs": [
    {
     "name": "stdout",
     "output_type": "stream",
     "text": [
      "Trying MultiLayer Perceptron\n",
      "\n",
      "1 hidden Layer, Size =50\n",
      "\n",
      "Iteration 1, loss = 2.75391195\n",
      "Iteration 2, loss = 0.31708747\n",
      "Iteration 3, loss = 0.11785534\n",
      "Iteration 4, loss = 0.06227242\n",
      "Iteration 5, loss = 0.03446606\n",
      "Iteration 6, loss = 0.01932272\n",
      "Iteration 7, loss = 0.01210914\n",
      "Iteration 8, loss = 0.00859025\n",
      "Iteration 9, loss = 0.00645283\n",
      "Iteration 10, loss = 0.00508139\n",
      "Iteration 11, loss = 0.00427318\n",
      "Iteration 12, loss = 0.00361380\n",
      "Iteration 13, loss = 0.00310852\n",
      "Iteration 14, loss = 0.00284155\n",
      "Iteration 15, loss = 0.00251261\n",
      "Iteration 16, loss = 0.00251852\n",
      "Iteration 17, loss = 0.00230071\n",
      "Iteration 18, loss = 0.00196434\n",
      "Iteration 19, loss = 0.00161674\n",
      "Iteration 20, loss = 0.00135748\n",
      "Iteration 21, loss = 0.00123294\n",
      "Iteration 22, loss = 0.00112308\n",
      "Iteration 23, loss = 0.00103304\n",
      "Iteration 24, loss = 0.00096093\n",
      "Iteration 25, loss = 0.00088487\n",
      "Iteration 26, loss = 0.00082632\n",
      "Iteration 27, loss = 0.00077740\n",
      "Iteration 28, loss = 0.00072149\n",
      "Iteration 29, loss = 0.00067994\n",
      "Iteration 30, loss = 0.00063571\n",
      "Iteration 31, loss = 0.00059924\n",
      "Iteration 32, loss = 0.00056966\n",
      "Iteration 33, loss = 0.00053594\n",
      "Training loss did not improve more than tol=0.000100 for 10 consecutive epochs. Stopping.\n",
      "\n",
      "acuracy= 0.9696\n"
     ]
    }
   ],
   "source": [
    "print(\"Trying MultiLayer Perceptron\\n\")\n",
    "\n",
    "from sklearn.neural_network import MLPClassifier\n",
    "from sklearn.linear_model import Perceptron\n",
    "import sklearn.metrics as metric\n",
    "import numpy as np\n",
    "\n",
    "print(\"1 hidden Layer, Size =50\\n\")\n",
    "mlp11 = MLPClassifier(solver='adam', hidden_layer_sizes=(50,), activation='relu',verbose='False') # set the method\n",
    "mlp11.fit(trainX, trainY)                    # training\n",
    "predY_mlp11=mlp11.predict(testX)                      # prediction\n",
    "#print(y_pred)                                      # show the output\n",
    "acc_mlp11=sklearn.metrics.accuracy_score(testY, predY_mlp11)\n",
    "print('\\nacuracy=',acc_mlp11)"
   ]
  },
  {
   "cell_type": "code",
   "execution_count": 16,
   "metadata": {},
   "outputs": [
    {
     "name": "stdout",
     "output_type": "stream",
     "text": [
      "Saving Trained MLP50 Model\n",
      "Done\n",
      "\n"
     ]
    }
   ],
   "source": [
    "print(\"Saving Trained MLP50 Model\")\n",
    "file_name = '6_mlp50.sav'\n",
    "pickle.dump(mlp11,open(file_name,'wb'))\n",
    "print(\"Done\\n\")"
   ]
  },
  {
   "cell_type": "code",
   "execution_count": 17,
   "metadata": {},
   "outputs": [
    {
     "name": "stdout",
     "output_type": "stream",
     "text": [
      "Trying MultiLayer Perceptron\n",
      "\n",
      "2 hidden Layer, Size =1000,500\n",
      "\n",
      "Iteration 1, loss = 3.25960042\n",
      "Iteration 2, loss = 0.05818283\n",
      "Iteration 3, loss = 0.01598464\n",
      "Iteration 4, loss = 0.00722502\n",
      "Iteration 5, loss = 0.00351161\n",
      "Iteration 6, loss = 0.00210818\n",
      "Iteration 7, loss = 0.00161837\n",
      "Iteration 8, loss = 0.00141056\n",
      "Iteration 9, loss = 0.00127088\n",
      "Iteration 10, loss = 0.00116379\n",
      "Iteration 11, loss = 0.00108309\n",
      "Iteration 12, loss = 0.00102239\n",
      "Iteration 13, loss = 0.00096799\n",
      "Iteration 14, loss = 0.00092804\n",
      "Iteration 15, loss = 0.00088390\n",
      "Iteration 16, loss = 0.00084092\n",
      "Iteration 17, loss = 0.00079951\n",
      "Iteration 18, loss = 0.00077551\n",
      "Iteration 19, loss = 0.00075092\n",
      "Iteration 20, loss = 0.00072346\n",
      "Iteration 21, loss = 0.00070721\n",
      "Training loss did not improve more than tol=0.000100 for 10 consecutive epochs. Stopping.\n",
      "\n",
      "acuracy= 0.9848\n"
     ]
    }
   ],
   "source": [
    "print(\"Trying MultiLayer Perceptron\\n\")\n",
    "\n",
    "from sklearn.neural_network import MLPClassifier\n",
    "from sklearn.linear_model import Perceptron\n",
    "import sklearn.metrics as metric\n",
    "import numpy as np\n",
    "\n",
    "print(\"2 hidden Layer, Size =1000,500\\n\")\n",
    "mlp12 = MLPClassifier(solver='adam', hidden_layer_sizes=(1000,500), activation='relu',verbose='False') # set the method\n",
    "mlp12.fit(trainX, trainY)                    # training\n",
    "predY_mlp12=mlp12.predict(testX)                      # prediction\n",
    "#print(y_pred)                                      # show the output\n",
    "acc_mlp12=sklearn.metrics.accuracy_score(testY, predY_mlp12)\n",
    "print('\\nacuracy=',acc_mlp12)"
   ]
  },
  {
   "cell_type": "code",
   "execution_count": 18,
   "metadata": {},
   "outputs": [
    {
     "name": "stdout",
     "output_type": "stream",
     "text": [
      "Saving Trained MLP1000500 Model\n",
      "Done\n",
      "\n"
     ]
    }
   ],
   "source": [
    "print(\"Saving Trained MLP1000500 Model\")\n",
    "file_name = '7_mlp1000500.sav'\n",
    "pickle.dump(mlp12,open(file_name,'wb'))\n",
    "print(\"Done\\n\")"
   ]
  },
  {
   "cell_type": "code",
   "execution_count": 19,
   "metadata": {},
   "outputs": [
    {
     "name": "stdout",
     "output_type": "stream",
     "text": [
      "Trying 350 RF estimators\n",
      "Accuracy =  0.9864\n"
     ]
    }
   ],
   "source": [
    "print(\"Trying 350 RF estimators\")\n",
    "clf14 = RandomForestClassifier(n_estimators=350,random_state=0,n_jobs=10)\n",
    "clf14.fit(trainX, trainY)\n",
    "predY14 = clf14.predict(testX)\n",
    "acc14 = sklearn.metrics.accuracy_score(testY, predY14)\n",
    "print(\"Accuracy = \",acc14)"
   ]
  },
  {
   "cell_type": "code",
   "execution_count": 20,
   "metadata": {},
   "outputs": [
    {
     "name": "stdout",
     "output_type": "stream",
     "text": [
      "Saving Trained RF350 Model\n",
      "Done\n",
      "\n"
     ]
    }
   ],
   "source": [
    "print(\"Saving Trained RF350 Model\")\n",
    "file_name = '8_rf350.sav'\n",
    "pickle.dump(clf14,open(file_name,'wb'))\n",
    "print(\"Done\\n\")"
   ]
  },
  {
   "cell_type": "code",
   "execution_count": 21,
   "metadata": {},
   "outputs": [
    {
     "name": "stdout",
     "output_type": "stream",
     "text": [
      "Trying MultiLayer Perceptron\n",
      "\n",
      "1 hidden Layer, Size =1000\n",
      "\n",
      "Iteration 1, loss = 4.03534207\n",
      "Iteration 2, loss = 0.08730261\n",
      "Iteration 3, loss = 0.01880782\n",
      "Iteration 4, loss = 0.00362630\n",
      "Iteration 5, loss = 0.00165738\n",
      "Iteration 6, loss = 0.00087816\n",
      "Iteration 7, loss = 0.00073055\n",
      "Iteration 8, loss = 0.00068046\n",
      "Iteration 9, loss = 0.00065193\n",
      "Iteration 10, loss = 0.00062771\n",
      "Iteration 11, loss = 0.00060665\n",
      "Iteration 12, loss = 0.00059035\n",
      "Iteration 13, loss = 0.00057738\n",
      "Iteration 14, loss = 0.00056533\n",
      "Iteration 15, loss = 0.00055531\n",
      "Iteration 16, loss = 0.00054587\n",
      "Iteration 17, loss = 0.00053777\n",
      "Iteration 18, loss = 0.00053132\n",
      "Training loss did not improve more than tol=0.000100 for 10 consecutive epochs. Stopping.\n",
      "\n",
      "acuracy= 0.9752\n"
     ]
    }
   ],
   "source": [
    "print(\"Trying MultiLayer Perceptron\\n\")\n",
    "\n",
    "from sklearn.neural_network import MLPClassifier\n",
    "from sklearn.linear_model import Perceptron\n",
    "import sklearn.metrics as metric\n",
    "import numpy as np\n",
    "\n",
    "print(\"1 hidden Layer, Size =1000\\n\")\n",
    "mlp15 = MLPClassifier(solver='adam', hidden_layer_sizes=(1000,), activation='relu',verbose='False') # set the method\n",
    "mlp15.fit(trainX, trainY)                    # training\n",
    "predY_mlp15=mlp15.predict(testX)                      # prediction\n",
    "#print(y_pred)                                      # show the output\n",
    "acc_mlp15=sklearn.metrics.accuracy_score(testY, predY_mlp15)\n",
    "print('\\nacuracy=',acc_mlp15)"
   ]
  },
  {
   "cell_type": "code",
   "execution_count": 22,
   "metadata": {},
   "outputs": [
    {
     "name": "stdout",
     "output_type": "stream",
     "text": [
      "Saving Trained MLP1000 Model\n",
      "Done\n",
      "\n"
     ]
    }
   ],
   "source": [
    "print(\"Saving Trained MLP1000 Model\")\n",
    "file_name = '9_mlp1000.sav'\n",
    "pickle.dump(mlp15,open(file_name,'wb'))\n",
    "print(\"Done\\n\")"
   ]
  },
  {
   "cell_type": "code",
   "execution_count": 23,
   "metadata": {},
   "outputs": [
    {
     "name": "stdout",
     "output_type": "stream",
     "text": [
      "Trying MultiLayer Perceptron\n",
      "\n",
      "1 hidden Layer, Size =100\n",
      "\n",
      "Iteration 1, loss = 0.79875230\n",
      "Iteration 2, loss = 0.24299393\n",
      "Iteration 3, loss = 0.13385196\n",
      "Iteration 4, loss = 0.09326109\n",
      "Iteration 5, loss = 0.07630578\n",
      "Iteration 6, loss = 0.06393064\n",
      "Iteration 7, loss = 0.05153666\n",
      "Iteration 8, loss = 0.04794859\n",
      "Iteration 9, loss = 0.04595532\n",
      "Iteration 10, loss = 0.04491970\n",
      "Iteration 11, loss = 0.03914503\n",
      "Iteration 12, loss = 0.03533889\n",
      "Iteration 13, loss = 0.02825532\n",
      "Iteration 14, loss = 0.03110772\n",
      "Iteration 15, loss = 0.02354278\n",
      "Iteration 16, loss = 0.02060819\n",
      "Iteration 17, loss = 0.02404422\n",
      "Iteration 18, loss = 0.02566424\n",
      "Iteration 19, loss = 0.02949376\n",
      "Iteration 20, loss = 0.02516558\n",
      "Iteration 21, loss = 0.02338514\n",
      "Iteration 22, loss = 0.02651419\n",
      "Iteration 23, loss = 0.01896344\n",
      "Iteration 24, loss = 0.01711045\n",
      "Iteration 25, loss = 0.01789943\n",
      "Iteration 26, loss = 0.01798825\n",
      "Iteration 27, loss = 0.01552207\n",
      "Iteration 28, loss = 0.01328996\n",
      "Iteration 29, loss = 0.01360247\n",
      "Iteration 30, loss = 0.01281296\n",
      "Iteration 31, loss = 0.01371954\n",
      "Iteration 32, loss = 0.01213772\n",
      "Iteration 33, loss = 0.01203041\n",
      "Iteration 34, loss = 0.01235692\n",
      "Iteration 35, loss = 0.01694192\n",
      "Iteration 36, loss = 0.01482341\n",
      "Iteration 37, loss = 0.01733730\n",
      "Iteration 38, loss = 0.02130453\n",
      "Iteration 39, loss = 0.02246730\n",
      "Iteration 40, loss = 0.03106730\n",
      "Iteration 41, loss = 0.03854291\n",
      "Iteration 42, loss = 0.05552918\n",
      "Iteration 43, loss = 0.06471468\n",
      "Iteration 44, loss = 0.05855137\n",
      "Training loss did not improve more than tol=0.000100 for 10 consecutive epochs. Stopping.\n",
      "\n",
      "acuracy= 0.9576\n"
     ]
    }
   ],
   "source": [
    "print(\"Trying MultiLayer Perceptron\\n\")\n",
    "\n",
    "from sklearn.neural_network import MLPClassifier\n",
    "from sklearn.linear_model import Perceptron\n",
    "import sklearn.metrics as metric\n",
    "import numpy as np\n",
    "\n",
    "print(\"1 hidden Layer, Size =100\\n\")\n",
    "mlp16 = MLPClassifier(solver='adam', hidden_layer_sizes=(100,), activation='tanh',verbose='False') # set the method\n",
    "mlp16.fit(trainX, trainY)                    # training\n",
    "predY_mlp16=mlp16.predict(testX)                      # prediction\n",
    "#print(y_pred)                                      # show the output\n",
    "acc_mlp16=sklearn.metrics.accuracy_score(testY, predY_mlp16)\n",
    "print('\\nacuracy=',acc_mlp16)"
   ]
  },
  {
   "cell_type": "code",
   "execution_count": 24,
   "metadata": {},
   "outputs": [
    {
     "name": "stdout",
     "output_type": "stream",
     "text": [
      "Saving Trained MLP100 Model\n",
      "Done\n",
      "\n"
     ]
    }
   ],
   "source": [
    "print(\"Saving Trained MLP100 Model\")\n",
    "file_name = '10_mlp100.sav'\n",
    "pickle.dump(mlp16,open(file_name,'wb'))\n",
    "print(\"Done\\n\")"
   ]
  },
  {
   "cell_type": "code",
   "execution_count": 25,
   "metadata": {},
   "outputs": [
    {
     "name": "stdout",
     "output_type": "stream",
     "text": [
      "Trying 200 RF estimators\n",
      "Accuracy =  0.9864\n"
     ]
    }
   ],
   "source": [
    "print(\"Trying 200 RF estimators\")\n",
    "clf18 = RandomForestClassifier(n_estimators=200,random_state=0,n_jobs=10)\n",
    "clf18.fit(trainX, trainY)\n",
    "predY18 = clf18.predict(testX)\n",
    "acc18 = sklearn.metrics.accuracy_score(testY, predY18)\n",
    "print(\"Accuracy = \",acc18)"
   ]
  },
  {
   "cell_type": "code",
   "execution_count": 26,
   "metadata": {},
   "outputs": [
    {
     "name": "stdout",
     "output_type": "stream",
     "text": [
      "Saving Trained RF200 Model\n",
      "Done\n",
      "\n"
     ]
    }
   ],
   "source": [
    "print(\"Saving Trained RF200 Model\")\n",
    "file_name = '11_rf200.sav'\n",
    "pickle.dump(clf18,open(file_name,'wb'))\n",
    "print(\"Done\\n\")"
   ]
  },
  {
   "cell_type": "code",
   "execution_count": 27,
   "metadata": {},
   "outputs": [
    {
     "name": "stdout",
     "output_type": "stream",
     "text": [
      "Trying 250 RF estimators\n",
      "Accuracy =  0.9872\n"
     ]
    }
   ],
   "source": [
    "print(\"Trying 250 RF estimators\")\n",
    "clf19 = RandomForestClassifier(n_estimators=250,random_state=0,n_jobs=10)\n",
    "clf19.fit(trainX, trainY)\n",
    "predY19 = clf19.predict(testX)\n",
    "acc19 = sklearn.metrics.accuracy_score(testY, predY19)\n",
    "print(\"Accuracy = \",acc19)"
   ]
  },
  {
   "cell_type": "code",
   "execution_count": 28,
   "metadata": {},
   "outputs": [
    {
     "name": "stdout",
     "output_type": "stream",
     "text": [
      "Saving Trained RF250 Model\n",
      "Done\n",
      "\n"
     ]
    }
   ],
   "source": [
    "print(\"Saving Trained RF250 Model\")\n",
    "file_name = '12_rf250.sav'\n",
    "pickle.dump(clf19,open(file_name,'wb'))\n",
    "print(\"Done\\n\")"
   ]
  },
  {
   "cell_type": "code",
   "execution_count": 29,
   "metadata": {},
   "outputs": [
    {
     "name": "stdout",
     "output_type": "stream",
     "text": [
      "Giving the final Prediction\n",
      "\n"
     ]
    },
    {
     "ename": "NameError",
     "evalue": "name 'predY1' is not defined",
     "output_type": "error",
     "traceback": [
      "\u001b[0;31m---------------------------------------------------------------------------\u001b[0m",
      "\u001b[0;31mNameError\u001b[0m                                 Traceback (most recent call last)",
      "\u001b[0;32m<ipython-input-29-dec44069a438>\u001b[0m in \u001b[0;36m<module>\u001b[0;34m\u001b[0m\n\u001b[1;32m      3\u001b[0m \u001b[0mpredF\u001b[0m \u001b[0;34m=\u001b[0m \u001b[0;34m[\u001b[0m\u001b[0;34m]\u001b[0m\u001b[0;34m\u001b[0m\u001b[0;34m\u001b[0m\u001b[0m\n\u001b[1;32m      4\u001b[0m \u001b[0;32mfor\u001b[0m \u001b[0mi\u001b[0m \u001b[0;32min\u001b[0m \u001b[0mrange\u001b[0m\u001b[0;34m(\u001b[0m\u001b[0;36m1250\u001b[0m\u001b[0;34m)\u001b[0m\u001b[0;34m:\u001b[0m\u001b[0;34m\u001b[0m\u001b[0;34m\u001b[0m\u001b[0m\n\u001b[0;32m----> 5\u001b[0;31m     pred_all = np.array([int(predY1[i]), int(predY2[i]), int(predY3[i]), int(predY4[i]), int(predY5[i]), \n\u001b[0m\u001b[1;32m      6\u001b[0m                          \u001b[0mint\u001b[0m\u001b[0;34m(\u001b[0m\u001b[0mpredY6\u001b[0m\u001b[0;34m[\u001b[0m\u001b[0mi\u001b[0m\u001b[0;34m]\u001b[0m\u001b[0;34m)\u001b[0m\u001b[0;34m,\u001b[0m \u001b[0mint\u001b[0m\u001b[0;34m(\u001b[0m\u001b[0mpredY7\u001b[0m\u001b[0;34m[\u001b[0m\u001b[0mi\u001b[0m\u001b[0;34m]\u001b[0m\u001b[0;34m)\u001b[0m\u001b[0;34m,\u001b[0m \u001b[0mint\u001b[0m\u001b[0;34m(\u001b[0m\u001b[0mpredY_mlp9\u001b[0m\u001b[0;34m[\u001b[0m\u001b[0mi\u001b[0m\u001b[0;34m]\u001b[0m\u001b[0;34m)\u001b[0m\u001b[0;34m,\u001b[0m \u001b[0mint\u001b[0m\u001b[0;34m(\u001b[0m\u001b[0mpredY_mlp10\u001b[0m\u001b[0;34m[\u001b[0m\u001b[0mi\u001b[0m\u001b[0;34m]\u001b[0m\u001b[0;34m)\u001b[0m\u001b[0;34m,\u001b[0m\u001b[0;34m\u001b[0m\u001b[0;34m\u001b[0m\u001b[0m\n\u001b[1;32m      7\u001b[0m                          \u001b[0mint\u001b[0m\u001b[0;34m(\u001b[0m\u001b[0mpredY_mlp11\u001b[0m\u001b[0;34m[\u001b[0m\u001b[0mi\u001b[0m\u001b[0;34m]\u001b[0m\u001b[0;34m)\u001b[0m\u001b[0;34m,\u001b[0m \u001b[0mint\u001b[0m\u001b[0;34m(\u001b[0m\u001b[0mpredY_mlp12\u001b[0m\u001b[0;34m[\u001b[0m\u001b[0mi\u001b[0m\u001b[0;34m]\u001b[0m\u001b[0;34m)\u001b[0m\u001b[0;34m,\u001b[0m \u001b[0mint\u001b[0m\u001b[0;34m(\u001b[0m\u001b[0mpredY_mlp13\u001b[0m\u001b[0;34m[\u001b[0m\u001b[0mi\u001b[0m\u001b[0;34m]\u001b[0m\u001b[0;34m)\u001b[0m\u001b[0;34m,\u001b[0m \u001b[0mint\u001b[0m\u001b[0;34m(\u001b[0m\u001b[0mpredY_mlp14\u001b[0m\u001b[0;34m[\u001b[0m\u001b[0mi\u001b[0m\u001b[0;34m]\u001b[0m\u001b[0;34m)\u001b[0m\u001b[0;34m,\u001b[0m\u001b[0;34m\u001b[0m\u001b[0;34m\u001b[0m\u001b[0m\n",
      "\u001b[0;31mNameError\u001b[0m: name 'predY1' is not defined"
     ]
    }
   ],
   "source": [
    "print(\"Giving the final Prediction\\n\")\n",
    "\n",
    "predF = []\n",
    "for i in range(1250):\n",
    "    pred_all = np.array([int(predY1[i]), int(predY2[i]), int(predY3[i]), int(predY4[i]), int(predY5[i]), \n",
    "                         int(predY6[i]), int(predY7[i]), int(predY_mlp9[i]), int(predY_mlp10[i]), \n",
    "                         int(predY_mlp11[i]), int(predY_mlp12[i]), int(predY_mlp13[i]), int(predY_mlp14[i]), \n",
    "                         int(predY_mlp15[i]), int(predY_mlp16[i]), int(predY_mlp17[i]), int(predY_mlp18[i])])\n",
    "    w_arr = [acc1,acc2,acc3,acc4,acc5,acc6,acc7,\n",
    "             acc_mlp9,acc_mlp10,acc_mlp11,acc_mlp12,acc_mlp13,\n",
    "             acc_mlp14,acc_mlp15,acc_mlp16,acc_mlp17,acc_mlp18]\n",
    "    predF.append(np.bincount(pred_all, weights = w_arr).argmax())\n",
    "    \n",
    "predF = np.array(predF)\n",
    "accF = sklearn.metrics.accuracy_score(testY, predF)\n",
    "print(\"Final Accuracy = \",accF)"
   ]
  },
  {
   "cell_type": "code",
   "execution_count": null,
   "metadata": {},
   "outputs": [],
   "source": []
  },
  {
   "cell_type": "code",
   "execution_count": null,
   "metadata": {},
   "outputs": [],
   "source": []
  },
  {
   "cell_type": "code",
   "execution_count": null,
   "metadata": {},
   "outputs": [],
   "source": []
  }
 ],
 "metadata": {
  "kernelspec": {
   "display_name": "Python 3",
   "language": "python",
   "name": "python3"
  },
  "language_info": {
   "codemirror_mode": {
    "name": "ipython",
    "version": 3
   },
   "file_extension": ".py",
   "mimetype": "text/x-python",
   "name": "python",
   "nbconvert_exporter": "python",
   "pygments_lexer": "ipython3",
   "version": "3.7.1"
  }
 },
 "nbformat": 4,
 "nbformat_minor": 2
}
